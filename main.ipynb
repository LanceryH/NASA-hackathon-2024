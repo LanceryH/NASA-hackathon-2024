{
 "cells": [
  {
   "cell_type": "code",
   "execution_count": 12,
   "metadata": {},
   "outputs": [],
   "source": [
    "import tifffile as tiff\n",
    "import matplotlib.pyplot as plt\n",
    "import matplotlib.patches as pts\n",
    "import numpy as np\n",
    "from mpl_toolkits.basemap import Basemap\n",
    "\n",
    "%matplotlib qt"
   ]
  },
  {
   "cell_type": "code",
   "execution_count": 13,
   "metadata": {},
   "outputs": [],
   "source": [
    "# Load the .tif file\n",
    "file_path = 'data.tif'\n",
    "tif_image = tiff.imread(file_path)"
   ]
  },
  {
   "cell_type": "code",
   "execution_count": 3,
   "metadata": {},
   "outputs": [
    {
     "name": "stdout",
     "output_type": "stream",
     "text": [
      "(43200, 86400, 3)\n"
     ]
    }
   ],
   "source": [
    "print(tif_image.shape)"
   ]
  },
  {
   "cell_type": "code",
   "execution_count": 6,
   "metadata": {},
   "outputs": [],
   "source": [
    "# Define chunk size and starting points\n",
    "chunk_size = 5000\n",
    "start_row, start_col = 9000, 13000\n",
    "end_row, end_col = 19000, 28000 \n",
    "\n",
    "lat_min, lat_max = -90, 90   # Latitude range for the whole image\n",
    "lon_min, lon_max = -180, 180 # Longitude range for the whole image\n",
    "\n",
    "# Define the size of the full image\n",
    "image_height, image_width = tif_image.shape[:2]\n",
    "\n",
    "# Calculate the geographic extent for your chunk\n",
    "lon_min = (start_col * 360 / image_width) - 180\n",
    "lon_max = (end_col * 360 / image_width) - 180\n",
    "lat_min = -(end_row * 180 / image_height) + 90\n",
    "lat_max = -(start_row * 180 / image_height) + 90"
   ]
  },
  {
   "cell_type": "code",
   "execution_count": 8,
   "metadata": {},
   "outputs": [],
   "source": [
    "# Function to read a chunk of the image\n",
    "def read_chunk(tif_image, start_row, start_col, end_row, end_col):\n",
    "    return tif_image[start_row:end_row, start_col:end_col]"
   ]
  },
  {
   "cell_type": "code",
   "execution_count": 9,
   "metadata": {},
   "outputs": [],
   "source": [
    "chunk_image = read_chunk(tif_image, start_row, start_col, end_row, end_col)"
   ]
  },
  {
   "cell_type": "code",
   "execution_count": 10,
   "metadata": {},
   "outputs": [
    {
     "name": "stderr",
     "output_type": "stream",
     "text": [
      "Clipping input data to the valid range for imshow with RGB data ([0..1] for floats or [0..255] for integers).\n"
     ]
    }
   ],
   "source": [
    "plt.figure()\n",
    "m = Basemap(projection='cyl',resolution=\"h\",\n",
    "                llcrnrlat=lat_min, urcrnrlat=lat_max,\n",
    "                llcrnrlon=lon_min, urcrnrlon=lon_max)\n",
    "m.drawcountries(color=\"yellow\")\n",
    "m.drawstates(color=\"yellow\")\n",
    "# m.drawcoastlines(color=\"yellow\")\n",
    "plt.imshow(chunk_image, extent=[lon_min, lon_max, lat_min, lat_max], interpolation='none')\n",
    "plt.tight_layout()\n",
    "plt.show()"
   ]
  }
 ],
 "metadata": {
  "kernelspec": {
   "display_name": "base",
   "language": "python",
   "name": "python3"
  },
  "language_info": {
   "codemirror_mode": {
    "name": "ipython",
    "version": 3
   },
   "file_extension": ".py",
   "mimetype": "text/x-python",
   "name": "python",
   "nbconvert_exporter": "python",
   "pygments_lexer": "ipython3",
   "version": "3.12.5"
  }
 },
 "nbformat": 4,
 "nbformat_minor": 2
}
